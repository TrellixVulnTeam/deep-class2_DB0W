{
 "cells": [
  {
   "cell_type": "code",
   "execution_count": 42,
   "id": "84c44e81",
   "metadata": {},
   "outputs": [],
   "source": [
    "# 라이브러리 설정\n",
    "import pandas as pd\n",
    "import numpy as np\n",
    "import tensorflow as tf\n",
    "from tensorflow import keras\n",
    "import random\n",
    "\n",
    "# 랜덤 시드 고정\n",
    "SEED=12\n",
    "random.seed(SEED)\n",
    "np.random.seed(SEED)\n",
    "tf.random.set_seed(SEED)  "
   ]
  },
  {
   "cell_type": "code",
   "execution_count": 2,
   "id": "0e8b9c2f",
   "metadata": {},
   "outputs": [
    {
     "name": "stdout",
     "output_type": "stream",
     "text": [
      "(60000, 786) (10000, 785)\n"
     ]
    }
   ],
   "source": [
    "train = pd.read_csv(\"fashionmnist/train.csv\")\n",
    "test = pd.read_csv(\"fashionmnist/test.csv\")\n",
    "\n",
    "print(train.shape, test.shape)   "
   ]
  },
  {
   "cell_type": "code",
   "execution_count": 4,
   "id": "bf61fa75",
   "metadata": {},
   "outputs": [
    {
     "data": {
      "text/html": [
       "<div>\n",
       "<style scoped>\n",
       "    .dataframe tbody tr th:only-of-type {\n",
       "        vertical-align: middle;\n",
       "    }\n",
       "\n",
       "    .dataframe tbody tr th {\n",
       "        vertical-align: top;\n",
       "    }\n",
       "\n",
       "    .dataframe thead th {\n",
       "        text-align: right;\n",
       "    }\n",
       "</style>\n",
       "<table border=\"1\" class=\"dataframe\">\n",
       "  <thead>\n",
       "    <tr style=\"text-align: right;\">\n",
       "      <th></th>\n",
       "      <th>index</th>\n",
       "      <th>label</th>\n",
       "      <th>pixel1</th>\n",
       "      <th>pixel2</th>\n",
       "      <th>pixel3</th>\n",
       "      <th>pixel4</th>\n",
       "      <th>pixel5</th>\n",
       "      <th>pixel6</th>\n",
       "      <th>pixel7</th>\n",
       "      <th>pixel8</th>\n",
       "      <th>...</th>\n",
       "      <th>pixel775</th>\n",
       "      <th>pixel776</th>\n",
       "      <th>pixel777</th>\n",
       "      <th>pixel778</th>\n",
       "      <th>pixel779</th>\n",
       "      <th>pixel780</th>\n",
       "      <th>pixel781</th>\n",
       "      <th>pixel782</th>\n",
       "      <th>pixel783</th>\n",
       "      <th>pixel784</th>\n",
       "    </tr>\n",
       "  </thead>\n",
       "  <tbody>\n",
       "    <tr>\n",
       "      <th>0</th>\n",
       "      <td>0</td>\n",
       "      <td>2</td>\n",
       "      <td>0</td>\n",
       "      <td>0</td>\n",
       "      <td>0</td>\n",
       "      <td>0</td>\n",
       "      <td>0</td>\n",
       "      <td>0</td>\n",
       "      <td>0</td>\n",
       "      <td>0</td>\n",
       "      <td>...</td>\n",
       "      <td>0</td>\n",
       "      <td>0</td>\n",
       "      <td>0</td>\n",
       "      <td>0</td>\n",
       "      <td>0</td>\n",
       "      <td>0</td>\n",
       "      <td>0</td>\n",
       "      <td>0</td>\n",
       "      <td>0</td>\n",
       "      <td>0</td>\n",
       "    </tr>\n",
       "    <tr>\n",
       "      <th>1</th>\n",
       "      <td>1</td>\n",
       "      <td>9</td>\n",
       "      <td>0</td>\n",
       "      <td>0</td>\n",
       "      <td>0</td>\n",
       "      <td>0</td>\n",
       "      <td>0</td>\n",
       "      <td>0</td>\n",
       "      <td>0</td>\n",
       "      <td>0</td>\n",
       "      <td>...</td>\n",
       "      <td>0</td>\n",
       "      <td>0</td>\n",
       "      <td>0</td>\n",
       "      <td>0</td>\n",
       "      <td>0</td>\n",
       "      <td>0</td>\n",
       "      <td>0</td>\n",
       "      <td>0</td>\n",
       "      <td>0</td>\n",
       "      <td>0</td>\n",
       "    </tr>\n",
       "    <tr>\n",
       "      <th>2</th>\n",
       "      <td>2</td>\n",
       "      <td>6</td>\n",
       "      <td>0</td>\n",
       "      <td>0</td>\n",
       "      <td>0</td>\n",
       "      <td>0</td>\n",
       "      <td>0</td>\n",
       "      <td>0</td>\n",
       "      <td>0</td>\n",
       "      <td>5</td>\n",
       "      <td>...</td>\n",
       "      <td>0</td>\n",
       "      <td>0</td>\n",
       "      <td>0</td>\n",
       "      <td>30</td>\n",
       "      <td>43</td>\n",
       "      <td>0</td>\n",
       "      <td>0</td>\n",
       "      <td>0</td>\n",
       "      <td>0</td>\n",
       "      <td>0</td>\n",
       "    </tr>\n",
       "    <tr>\n",
       "      <th>3</th>\n",
       "      <td>3</td>\n",
       "      <td>0</td>\n",
       "      <td>0</td>\n",
       "      <td>0</td>\n",
       "      <td>0</td>\n",
       "      <td>1</td>\n",
       "      <td>2</td>\n",
       "      <td>0</td>\n",
       "      <td>0</td>\n",
       "      <td>0</td>\n",
       "      <td>...</td>\n",
       "      <td>3</td>\n",
       "      <td>0</td>\n",
       "      <td>0</td>\n",
       "      <td>0</td>\n",
       "      <td>0</td>\n",
       "      <td>1</td>\n",
       "      <td>0</td>\n",
       "      <td>0</td>\n",
       "      <td>0</td>\n",
       "      <td>0</td>\n",
       "    </tr>\n",
       "    <tr>\n",
       "      <th>4</th>\n",
       "      <td>4</td>\n",
       "      <td>3</td>\n",
       "      <td>0</td>\n",
       "      <td>0</td>\n",
       "      <td>0</td>\n",
       "      <td>0</td>\n",
       "      <td>0</td>\n",
       "      <td>0</td>\n",
       "      <td>0</td>\n",
       "      <td>0</td>\n",
       "      <td>...</td>\n",
       "      <td>0</td>\n",
       "      <td>0</td>\n",
       "      <td>0</td>\n",
       "      <td>0</td>\n",
       "      <td>0</td>\n",
       "      <td>0</td>\n",
       "      <td>0</td>\n",
       "      <td>0</td>\n",
       "      <td>0</td>\n",
       "      <td>0</td>\n",
       "    </tr>\n",
       "  </tbody>\n",
       "</table>\n",
       "<p>5 rows × 786 columns</p>\n",
       "</div>"
      ],
      "text/plain": [
       "   index  label  pixel1  pixel2  pixel3  pixel4  pixel5  pixel6  pixel7  \\\n",
       "0      0      2       0       0       0       0       0       0       0   \n",
       "1      1      9       0       0       0       0       0       0       0   \n",
       "2      2      6       0       0       0       0       0       0       0   \n",
       "3      3      0       0       0       0       1       2       0       0   \n",
       "4      4      3       0       0       0       0       0       0       0   \n",
       "\n",
       "   pixel8  ...  pixel775  pixel776  pixel777  pixel778  pixel779  pixel780  \\\n",
       "0       0  ...         0         0         0         0         0         0   \n",
       "1       0  ...         0         0         0         0         0         0   \n",
       "2       5  ...         0         0         0        30        43         0   \n",
       "3       0  ...         3         0         0         0         0         1   \n",
       "4       0  ...         0         0         0         0         0         0   \n",
       "\n",
       "   pixel781  pixel782  pixel783  pixel784  \n",
       "0         0         0         0         0  \n",
       "1         0         0         0         0  \n",
       "2         0         0         0         0  \n",
       "3         0         0         0         0  \n",
       "4         0         0         0         0  \n",
       "\n",
       "[5 rows x 786 columns]"
      ]
     },
     "execution_count": 4,
     "metadata": {},
     "output_type": "execute_result"
    }
   ],
   "source": [
    "train.head()"
   ]
  },
  {
   "cell_type": "code",
   "execution_count": 5,
   "id": "3694fa2e",
   "metadata": {},
   "outputs": [
    {
     "data": {
      "text/plain": [
       "(60000, 28, 28)"
      ]
     },
     "execution_count": 5,
     "metadata": {},
     "output_type": "execute_result"
    }
   ],
   "source": [
    "train_images = train.loc[:, 'pixel1':].values.reshape(-1, 28, 28)\n",
    "train_images.shape"
   ]
  },
  {
   "cell_type": "code",
   "execution_count": 8,
   "id": "00a03f5e",
   "metadata": {},
   "outputs": [
    {
     "data": {
      "text/plain": [
       "array([0, 0, 0, 0, 0, 0, 0, 0, 0, 0, 0, 0, 0, 0, 0, 0, 0, 0, 0, 0, 0, 0,\n",
       "       0, 0, 0, 0, 0, 0], dtype=int64)"
      ]
     },
     "execution_count": 8,
     "metadata": {},
     "output_type": "execute_result"
    }
   ],
   "source": [
    "train_images[0][0]"
   ]
  },
  {
   "cell_type": "code",
   "execution_count": 9,
   "id": "f51dc941",
   "metadata": {},
   "outputs": [
    {
     "data": {
      "text/plain": [
       "<matplotlib.image.AxesImage at 0x2101e8029d0>"
      ]
     },
     "execution_count": 9,
     "metadata": {},
     "output_type": "execute_result"
    },
    {
     "data": {
      "image/png": "[encoded data removed]",
      "text/plain": [
       "<Figure size 432x288 with 1 Axes>"
      ]
     },
     "metadata": {
      "needs_background": "light"
     },
     "output_type": "display_data"
    }
   ],
   "source": [
    "import matplotlib.pyplot as plt\n",
    "plt.imshow(train_images[0])"
   ]
  },
  {
   "cell_type": "code",
   "execution_count": 10,
   "id": "a8cdf408",
   "metadata": {},
   "outputs": [
    {
     "data": {
      "text/plain": [
       "0        2\n",
       "1        9\n",
       "2        6\n",
       "3        0\n",
       "4        3\n",
       "        ..\n",
       "59995    9\n",
       "59996    1\n",
       "59997    8\n",
       "59998    8\n",
       "59999    7\n",
       "Name: label, Length: 60000, dtype: int64"
      ]
     },
     "execution_count": 10,
     "metadata": {},
     "output_type": "execute_result"
    }
   ],
   "source": [
    "y_train = train.loc[:, 'label']\n",
    "y_train"
   ]
  },
  {
   "cell_type": "code",
   "execution_count": 11,
   "id": "b7c86351",
   "metadata": {},
   "outputs": [
    {
     "data": {
      "text/plain": [
       "array([2, 9, 6, 0, 3, 4, 5, 8, 7, 1], dtype=int64)"
      ]
     },
     "execution_count": 11,
     "metadata": {},
     "output_type": "execute_result"
    }
   ],
   "source": [
    "y_train.unique()"
   ]
  },
  {
   "cell_type": "code",
   "execution_count": 12,
   "id": "e90e74ae",
   "metadata": {},
   "outputs": [],
   "source": [
    "target_values = {0 : 'T-shirt/top', \n",
    "                 1 : 'Trouser', \n",
    "                 2: 'Pullover', \n",
    "                 3: 'Dress', \n",
    "                 4: 'Coat', \n",
    "                 5: 'Sandal', \n",
    "                 6: 'Shirt', \n",
    "                 7: 'Sneaker', \n",
    "                 8: 'Bag', \n",
    "                 9: 'Ankle boot'}"
   ]
  },
  {
   "cell_type": "code",
   "execution_count": 13,
   "id": "6349b5af",
   "metadata": {},
   "outputs": [
    {
     "data": {
      "text/plain": [
       "2"
      ]
     },
     "execution_count": 13,
     "metadata": {},
     "output_type": "execute_result"
    }
   ],
   "source": [
    "y_train[0]"
   ]
  },
  {
   "cell_type": "code",
   "execution_count": 14,
   "id": "721eee37",
   "metadata": {},
   "outputs": [
    {
     "data": {
      "text/plain": [
       "'Pullover'"
      ]
     },
     "execution_count": 14,
     "metadata": {},
     "output_type": "execute_result"
    }
   ],
   "source": [
    "target_values[2]"
   ]
  },
  {
   "cell_type": "code",
   "execution_count": 15,
   "id": "168b261e",
   "metadata": {},
   "outputs": [
    {
     "data": {
      "text/plain": [
       "'Pullover'"
      ]
     },
     "execution_count": 15,
     "metadata": {},
     "output_type": "execute_result"
    }
   ],
   "source": [
    "target_values[y_train[0]]"
   ]
  },
  {
   "cell_type": "code",
   "execution_count": 16,
   "id": "e1a9ac37",
   "metadata": {},
   "outputs": [],
   "source": [
    "# plt.imshow(train_images[0])"
   ]
  },
  {
   "cell_type": "code",
   "execution_count": null,
   "id": "16f4cd81",
   "metadata": {},
   "outputs": [],
   "source": [
    "# 테스트 데이터 499번 인덱스는 무엇일까요? 그림으로 프린트!"
   ]
  },
  {
   "cell_type": "code",
   "execution_count": 17,
   "id": "d6093a75",
   "metadata": {},
   "outputs": [
    {
     "data": {
      "text/plain": [
       "(10000, 28, 28)"
      ]
     },
     "execution_count": 17,
     "metadata": {},
     "output_type": "execute_result"
    }
   ],
   "source": [
    "test_images = test.loc[:, 'pixel1':].values.reshape(-1, 28, 28)\n",
    "test_images.shape"
   ]
  },
  {
   "cell_type": "code",
   "execution_count": 18,
   "id": "cb48a2ba",
   "metadata": {},
   "outputs": [
    {
     "data": {
      "text/plain": [
       "<matplotlib.image.AxesImage at 0x2101e8b2670>"
      ]
     },
     "execution_count": 18,
     "metadata": {},
     "output_type": "execute_result"
    },
    {
     "data": {
      "image/png": "[encoded data removed]",
      "text/plain": [
       "<Figure size 432x288 with 1 Axes>"
      ]
     },
     "metadata": {
      "needs_background": "light"
     },
     "output_type": "display_data"
    }
   ],
   "source": [
    "plt.imshow(test_images[0])"
   ]
  },
  {
   "cell_type": "code",
   "execution_count": 19,
   "id": "b65072c3",
   "metadata": {},
   "outputs": [
    {
     "data": {
      "text/plain": [
       "<matplotlib.image.AxesImage at 0x2101e89c910>"
      ]
     },
     "execution_count": 19,
     "metadata": {},
     "output_type": "execute_result"
    },
    {
     "data": {
      "image/png": "[encoded data removed]",
      "text/plain": [
       "<Figure size 432x288 with 1 Axes>"
      ]
     },
     "metadata": {
      "needs_background": "light"
     },
     "output_type": "display_data"
    }
   ],
   "source": [
    "plt.imshow(test_images[499])"
   ]
  },
  {
   "cell_type": "code",
   "execution_count": 20,
   "id": "081e5155",
   "metadata": {
    "scrolled": true
   },
   "outputs": [
    {
     "data": {
      "text/plain": [
       "<matplotlib.image.AxesImage at 0x2101d77d3a0>"
      ]
     },
     "execution_count": 20,
     "metadata": {},
     "output_type": "execute_result"
    },
    {
     "data": {
      "image/png": "[encoded data removed]",
      "text/plain": [
       "<Figure size 432x288 with 1 Axes>"
      ]
     },
     "metadata": {
      "needs_background": "light"
     },
     "output_type": "display_data"
    }
   ],
   "source": [
    "plt.imshow(test_images[9999])"
   ]
  },
  {
   "cell_type": "code",
   "execution_count": null,
   "id": "3f1fc220",
   "metadata": {},
   "outputs": [],
   "source": [
    "## 전처리 ##"
   ]
  },
  {
   "cell_type": "code",
   "execution_count": 22,
   "id": "e206a4bd",
   "metadata": {},
   "outputs": [
    {
     "name": "stdout",
     "output_type": "stream",
     "text": [
      "최소값: 0.0\n",
      "최대값: 1.0\n"
     ]
    }
   ],
   "source": [
    "## 스케일링 0~255\n",
    "X_train = train_images / 255\n",
    "X_test = test_images / 255\n",
    "\n",
    "print(\"최소값:\", X_train[0].min())\n",
    "print(\"최대값:\", X_train[0].max())"
   ]
  },
  {
   "cell_type": "code",
   "execution_count": 23,
   "id": "8f8e464f",
   "metadata": {},
   "outputs": [
    {
     "name": "stdout",
     "output_type": "stream",
     "text": [
      "변환 전: (60000, 28, 28) (10000, 28, 28)\n"
     ]
    }
   ],
   "source": [
    "# 채널 차원 추가(3차원--->4차원으로!)\n",
    "print(\"변환 전:\", X_train.shape, X_test.shape)"
   ]
  },
  {
   "cell_type": "code",
   "execution_count": 24,
   "id": "da26db75",
   "metadata": {},
   "outputs": [],
   "source": [
    "X_train = np.expand_dims(X_train, axis=-1)\n",
    "X_test = np.expand_dims(X_test, axis=-1)"
   ]
  },
  {
   "cell_type": "code",
   "execution_count": 25,
   "id": "8033fb88",
   "metadata": {},
   "outputs": [
    {
     "name": "stdout",
     "output_type": "stream",
     "text": [
      "변환 후: (60000, 28, 28, 1) (10000, 28, 28, 1)\n"
     ]
    }
   ],
   "source": [
    "print(\"변환 후:\", X_train.shape, X_test.shape)"
   ]
  },
  {
   "cell_type": "code",
   "execution_count": 26,
   "id": "bf72d9eb",
   "metadata": {},
   "outputs": [
    {
     "name": "stdout",
     "output_type": "stream",
     "text": [
      "학습 데이터셋 크기:  (48000, 28, 28, 1) (48000,)\n",
      "검증 데이터셋 크기:  (12000, 28, 28, 1) (12000,)\n"
     ]
    }
   ],
   "source": [
    "# Train - Validation 데이터 구분\n",
    "from sklearn.model_selection import train_test_split\n",
    "X_tr, X_val, y_tr, y_val =  train_test_split(X_train, y_train, test_size=0.2, \n",
    "                                             stratify=y_train, \n",
    "                                             shuffle=True, random_state=SEED)\n",
    "print(\"학습 데이터셋 크기: \", X_tr.shape, y_tr.shape)\n",
    "print(\"검증 데이터셋 크기: \", X_val.shape, y_val.shape)"
   ]
  },
  {
   "cell_type": "code",
   "execution_count": 27,
   "id": "36f6dbb8",
   "metadata": {},
   "outputs": [],
   "source": [
    "from tensorflow.keras.models import Sequential\n",
    "from tensorflow.keras.layers import Flatten, Dense"
   ]
  },
  {
   "cell_type": "code",
   "execution_count": 29,
   "id": "45b3a4d6",
   "metadata": {},
   "outputs": [
    {
     "name": "stdout",
     "output_type": "stream",
     "text": [
      "Model: \"sequential_1\"\n",
      "_________________________________________________________________\n",
      " Layer (type)                Output Shape              Param #   \n",
      "=================================================================\n",
      " flatten (Flatten)           (None, 784)               0         \n",
      "                                                                 \n",
      " dense (Dense)               (None, 64)                50240     \n",
      "                                                                 \n",
      " dense_1 (Dense)             (None, 10)                650       \n",
      "                                                                 \n",
      "=================================================================\n",
      "Total params: 50,890\n",
      "Trainable params: 50,890\n",
      "Non-trainable params: 0\n",
      "_________________________________________________________________\n"
     ]
    }
   ],
   "source": [
    "mlp_model = Sequential()\n",
    "mlp_model.add(Flatten(input_shape=[28, 28]))\n",
    "mlp_model.add(Dense(units=64, activation='relu'))\n",
    "mlp_model.add(Dense(units=10, activation='softmax'))\n",
    "#model.add(Dropout(rate=0.5))\n",
    "mlp_model.compile(optimizer='adam',\n",
    "                 loss='sparse_categorical_crossentropy',\n",
    "                 metrics = ['acc']\n",
    "                 )\n",
    "mlp_model.summary()"
   ]
  },
  {
   "cell_type": "code",
   "execution_count": 30,
   "id": "814792de",
   "metadata": {
    "scrolled": true
   },
   "outputs": [
    {
     "name": "stdout",
     "output_type": "stream",
     "text": [
      "Epoch 1/20\n",
      "750/750 - 1s - loss: 0.5740 - acc: 0.8021 - val_loss: 0.4500 - val_acc: 0.8425 - 1s/epoch - 2ms/step\n",
      "Epoch 2/20\n",
      "750/750 - 1s - loss: 0.4221 - acc: 0.8501 - val_loss: 0.4063 - val_acc: 0.8595 - 764ms/epoch - 1ms/step\n",
      "Epoch 3/20\n",
      "750/750 - 1s - loss: 0.3869 - acc: 0.8628 - val_loss: 0.4007 - val_acc: 0.8598 - 794ms/epoch - 1ms/step\n",
      "Epoch 4/20\n",
      "750/750 - 1s - loss: 0.3632 - acc: 0.8702 - val_loss: 0.3955 - val_acc: 0.8579 - 855ms/epoch - 1ms/step\n",
      "Epoch 5/20\n",
      "750/750 - 1s - loss: 0.3462 - acc: 0.8753 - val_loss: 0.3768 - val_acc: 0.8692 - 793ms/epoch - 1ms/step\n",
      "Epoch 6/20\n",
      "750/750 - 1s - loss: 0.3294 - acc: 0.8804 - val_loss: 0.3521 - val_acc: 0.8761 - 667ms/epoch - 889us/step\n",
      "Epoch 7/20\n",
      "750/750 - 1s - loss: 0.3171 - acc: 0.8843 - val_loss: 0.3478 - val_acc: 0.8797 - 657ms/epoch - 876us/step\n",
      "Epoch 8/20\n",
      "750/750 - 1s - loss: 0.3049 - acc: 0.8899 - val_loss: 0.3543 - val_acc: 0.8722 - 644ms/epoch - 859us/step\n",
      "Epoch 9/20\n",
      "750/750 - 1s - loss: 0.2955 - acc: 0.8923 - val_loss: 0.3428 - val_acc: 0.8792 - 639ms/epoch - 851us/step\n",
      "Epoch 10/20\n",
      "750/750 - 1s - loss: 0.2876 - acc: 0.8949 - val_loss: 0.3762 - val_acc: 0.8727 - 736ms/epoch - 981us/step\n",
      "Epoch 11/20\n",
      "750/750 - 1s - loss: 0.2779 - acc: 0.8981 - val_loss: 0.3456 - val_acc: 0.8793 - 756ms/epoch - 1ms/step\n",
      "Epoch 12/20\n",
      "750/750 - 1s - loss: 0.2712 - acc: 0.8996 - val_loss: 0.3409 - val_acc: 0.8794 - 1s/epoch - 2ms/step\n",
      "Epoch 13/20\n",
      "750/750 - 1s - loss: 0.2636 - acc: 0.9035 - val_loss: 0.3363 - val_acc: 0.8840 - 748ms/epoch - 997us/step\n",
      "Epoch 14/20\n",
      "750/750 - 1s - loss: 0.2569 - acc: 0.9058 - val_loss: 0.3283 - val_acc: 0.8849 - 695ms/epoch - 927us/step\n",
      "Epoch 15/20\n",
      "750/750 - 1s - loss: 0.2516 - acc: 0.9085 - val_loss: 0.3270 - val_acc: 0.8860 - 898ms/epoch - 1ms/step\n",
      "Epoch 16/20\n",
      "750/750 - 1s - loss: 0.2446 - acc: 0.9100 - val_loss: 0.3274 - val_acc: 0.8878 - 813ms/epoch - 1ms/step\n",
      "Epoch 17/20\n",
      "750/750 - 1s - loss: 0.2399 - acc: 0.9125 - val_loss: 0.3244 - val_acc: 0.8893 - 992ms/epoch - 1ms/step\n",
      "Epoch 18/20\n",
      "750/750 - 1s - loss: 0.2357 - acc: 0.9140 - val_loss: 0.3368 - val_acc: 0.8861 - 691ms/epoch - 921us/step\n",
      "Epoch 19/20\n",
      "750/750 - 1s - loss: 0.2314 - acc: 0.9149 - val_loss: 0.3370 - val_acc: 0.8847 - 754ms/epoch - 1ms/step\n",
      "Epoch 20/20\n",
      "750/750 - 1s - loss: 0.2257 - acc: 0.9176 - val_loss: 0.3583 - val_acc: 0.8786 - 735ms/epoch - 980us/step\n"
     ]
    }
   ],
   "source": [
    "mlp_lhistory = mlp_model.fit(X_tr, y_tr, \n",
    "                             batch_size=64, \n",
    "                             epochs=20,\n",
    "                             validation_data=(X_val, y_val),\n",
    "                             verbose=2)"
   ]
  },
  {
   "cell_type": "code",
   "execution_count": 31,
   "id": "7f4a5ca3",
   "metadata": {},
   "outputs": [
    {
     "data": {
      "image/png": "[encoded data removed]",
      "text/plain": [
       "<Figure size 432x288 with 1 Axes>"
      ]
     },
     "metadata": {
      "needs_background": "light"
     },
     "output_type": "display_data"
    }
   ],
   "source": [
    "plt.plot(mlp_lhistory.history['loss'])\n",
    "plt.plot(mlp_lhistory.history['val_loss'])\n",
    "plt.xlabel('epoch')\n",
    "plt.ylabel('loss')\n",
    "plt.legend(['train', 'val'])\n",
    "plt.show()"
   ]
  },
  {
   "cell_type": "code",
   "execution_count": 33,
   "id": "405466b7",
   "metadata": {},
   "outputs": [
    {
     "data": {
      "image/png": "[encoded data removed]",
      "text/plain": [
       "<Figure size 432x288 with 1 Axes>"
      ]
     },
     "metadata": {
      "needs_background": "light"
     },
     "output_type": "display_data"
    }
   ],
   "source": [
    "plt.plot(mlp_lhistory.history['acc'])\n",
    "plt.plot(mlp_lhistory.history['val_acc'])\n",
    "plt.xlabel('epoch')\n",
    "plt.ylabel('acc')\n",
    "plt.legend(['train', 'val'])\n",
    "plt.show()"
   ]
  },
  {
   "cell_type": "code",
   "execution_count": 35,
   "id": "53118ec3",
   "metadata": {},
   "outputs": [
    {
     "name": "stdout",
     "output_type": "stream",
     "text": [
      "375/375 [==============================] - 1s 1ms/step - loss: 0.3583 - acc: 0.8786\n"
     ]
    },
    {
     "data": {
      "text/plain": [
       "[0.3582802712917328, 0.8785833120346069]"
      ]
     },
     "execution_count": 35,
     "metadata": {},
     "output_type": "execute_result"
    }
   ],
   "source": [
    "mlp_model.evaluate(X_val, y_val)"
   ]
  },
  {
   "cell_type": "code",
   "execution_count": 77,
   "id": "4b7c7399",
   "metadata": {},
   "outputs": [
    {
     "name": "stdout",
     "output_type": "stream",
     "text": [
      "Model: \"sequential_4\"\n",
      "_________________________________________________________________\n",
      " Layer (type)                Output Shape              Param #   \n",
      "=================================================================\n",
      " flatten_3 (Flatten)         (None, 784)               0         \n",
      "                                                                 \n",
      " dense_6 (Dense)             (None, 64)                50240     \n",
      "                                                                 \n",
      " dropout_1 (Dropout)         (None, 64)                0         \n",
      "                                                                 \n",
      " dense_7 (Dense)             (None, 10)                650       \n",
      "                                                                 \n",
      "=================================================================\n",
      "Total params: 50,890\n",
      "Trainable params: 50,890\n",
      "Non-trainable params: 0\n",
      "_________________________________________________________________\n"
     ]
    }
   ],
   "source": [
    "from tensorflow.keras.layers import Dropout\n",
    "mlp2_model = Sequential()\n",
    "mlp2_model.add(Flatten(input_shape=[28, 28]))\n",
    "mlp2_model.add(Dense(units=64, activation='relu'))\n",
    "mlp2_model.add(Dropout(rate=0.5))\n",
    "mlp2_model.add(Dense(units=10, activation='softmax'))\n",
    "\n",
    "mlp2_model.compile(optimizer='adam',\n",
    "                 loss='sparse_categorical_crossentropy',\n",
    "                 metrics = ['acc']\n",
    "                 )\n",
    "mlp2_model.summary()"
   ]
  },
  {
   "cell_type": "code",
   "execution_count": 78,
   "id": "05d4bb7c",
   "metadata": {},
   "outputs": [
    {
     "name": "stdout",
     "output_type": "stream",
     "text": [
      "Epoch 1/20\n",
      "750/750 - 1s - loss: 0.7987 - acc: 0.7193 - val_loss: 0.4920 - val_acc: 0.8288 - 1s/epoch - 1ms/step\n",
      "Epoch 2/20\n",
      "750/750 - 1s - loss: 0.5785 - acc: 0.7976 - val_loss: 0.4355 - val_acc: 0.8444 - 693ms/epoch - 924us/step\n",
      "Epoch 3/20\n",
      "750/750 - 1s - loss: 0.5292 - acc: 0.8136 - val_loss: 0.4353 - val_acc: 0.8429 - 676ms/epoch - 901us/step\n",
      "Epoch 4/20\n",
      "750/750 - 1s - loss: 0.5089 - acc: 0.8193 - val_loss: 0.4072 - val_acc: 0.8566 - 677ms/epoch - 902us/step\n",
      "Epoch 5/20\n",
      "750/750 - 1s - loss: 0.4897 - acc: 0.8233 - val_loss: 0.3971 - val_acc: 0.8607 - 672ms/epoch - 895us/step\n",
      "Epoch 6/20\n",
      "750/750 - 1s - loss: 0.4759 - acc: 0.8294 - val_loss: 0.4004 - val_acc: 0.8549 - 683ms/epoch - 911us/step\n",
      "Epoch 7/20\n",
      "750/750 - 1s - loss: 0.4679 - acc: 0.8328 - val_loss: 0.3863 - val_acc: 0.8635 - 669ms/epoch - 892us/step\n",
      "Epoch 8/20\n",
      "750/750 - 1s - loss: 0.4614 - acc: 0.8331 - val_loss: 0.3780 - val_acc: 0.8648 - 672ms/epoch - 896us/step\n",
      "Epoch 9/20\n",
      "750/750 - 1s - loss: 0.4535 - acc: 0.8356 - val_loss: 0.3795 - val_acc: 0.8590 - 672ms/epoch - 896us/step\n",
      "Epoch 10/20\n",
      "750/750 - 1s - loss: 0.4451 - acc: 0.8371 - val_loss: 0.3699 - val_acc: 0.8673 - 673ms/epoch - 897us/step\n",
      "Epoch 11/20\n",
      "750/750 - 1s - loss: 0.4367 - acc: 0.8398 - val_loss: 0.3730 - val_acc: 0.8666 - 669ms/epoch - 892us/step\n",
      "Epoch 12/20\n",
      "750/750 - 1s - loss: 0.4313 - acc: 0.8411 - val_loss: 0.3669 - val_acc: 0.8718 - 677ms/epoch - 903us/step\n",
      "Epoch 13/20\n",
      "750/750 - 1s - loss: 0.4267 - acc: 0.8418 - val_loss: 0.3715 - val_acc: 0.8695 - 673ms/epoch - 897us/step\n",
      "Epoch 14/20\n",
      "750/750 - 1s - loss: 0.4251 - acc: 0.8434 - val_loss: 0.3684 - val_acc: 0.8695 - 669ms/epoch - 892us/step\n",
      "Epoch 15/20\n",
      "750/750 - 1s - loss: 0.4193 - acc: 0.8462 - val_loss: 0.3640 - val_acc: 0.8713 - 676ms/epoch - 901us/step\n",
      "Epoch 16/20\n",
      "750/750 - 1s - loss: 0.4173 - acc: 0.8465 - val_loss: 0.3621 - val_acc: 0.8707 - 674ms/epoch - 899us/step\n",
      "Epoch 17/20\n",
      "750/750 - 1s - loss: 0.4125 - acc: 0.8479 - val_loss: 0.3578 - val_acc: 0.8749 - 685ms/epoch - 913us/step\n",
      "Epoch 18/20\n",
      "750/750 - 1s - loss: 0.4102 - acc: 0.8482 - val_loss: 0.3599 - val_acc: 0.8712 - 692ms/epoch - 922us/step\n",
      "Epoch 19/20\n",
      "750/750 - 1s - loss: 0.4088 - acc: 0.8470 - val_loss: 0.3731 - val_acc: 0.8702 - 847ms/epoch - 1ms/step\n",
      "Epoch 20/20\n",
      "750/750 - 1s - loss: 0.4090 - acc: 0.8482 - val_loss: 0.3725 - val_acc: 0.8723 - 809ms/epoch - 1ms/step\n"
     ]
    }
   ],
   "source": [
    "# call-back 2개 지정: 1) 조기 종료, 최적의 가중치 저장\n",
    "early_stopping = keras.callbacks.EarlyStopping(patience=10, \n",
    "                                                  restore_best_weights=True)\n",
    "checkpoint = keras.callbacks.ModelCheckpoint('best-mlp2-model.h5')\n",
    "\n",
    "mlp2_history = mlp2_model.fit(X_tr, y_tr, \n",
    "                             batch_size=64, \n",
    "                             epochs=20,\n",
    "                             validation_data=(X_val, y_val),\n",
    "                             callbacks = [ checkpoint, early_stopping],\n",
    "                             verbose=2)"
   ]
  },
  {
   "cell_type": "code",
   "execution_count": 79,
   "id": "1f562f80",
   "metadata": {},
   "outputs": [
    {
     "name": "stdout",
     "output_type": "stream",
     "text": [
      "375/375 [==============================] - 0s 1ms/step - loss: 0.3725 - acc: 0.8723\n"
     ]
    },
    {
     "data": {
      "text/plain": [
       "[0.3725275993347168, 0.8722500205039978]"
      ]
     },
     "execution_count": 79,
     "metadata": {},
     "output_type": "execute_result"
    }
   ],
   "source": [
    "mlp2_model.evaluate(X_val, y_val)"
   ]
  },
  {
   "cell_type": "code",
   "execution_count": 80,
   "id": "e3808d9c",
   "metadata": {},
   "outputs": [
    {
     "data": {
      "image/png": "[encoded data removed]",
      "text/plain": [
       "<Figure size 432x288 with 1 Axes>"
      ]
     },
     "metadata": {
      "needs_background": "light"
     },
     "output_type": "display_data"
    }
   ],
   "source": [
    "plt.plot(mlp2_history.history['loss'])\n",
    "plt.plot(mlp2_history.history['val_loss'])\n",
    "plt.xlabel('epoch')\n",
    "plt.ylabel('loss')\n",
    "plt.legend(['train', 'val'])\n",
    "plt.show()"
   ]
  },
  {
   "cell_type": "code",
   "execution_count": 81,
   "id": "c61fa96f",
   "metadata": {},
   "outputs": [
    {
     "data": {
      "image/png": "[encoded data removed]",
      "text/plain": [
       "<Figure size 432x288 with 1 Axes>"
      ]
     },
     "metadata": {
      "needs_background": "light"
     },
     "output_type": "display_data"
    }
   ],
   "source": [
    "plt.plot(mlp2_history.history['acc'])\n",
    "plt.plot(mlp2_history.history['val_acc'])\n",
    "plt.xlabel('epoch')\n",
    "plt.ylabel('acc')\n",
    "plt.legend(['train', 'val'])\n",
    "plt.show()"
   ]
  },
  {
   "cell_type": "code",
   "execution_count": null,
   "id": "77a2e848",
   "metadata": {},
   "outputs": [],
   "source": [
    "################################"
   ]
  },
  {
   "cell_type": "code",
   "execution_count": 61,
   "id": "c5bbf1ed",
   "metadata": {},
   "outputs": [
    {
     "data": {
      "text/plain": [
       "<matplotlib.image.AxesImage at 0x2106d779790>"
      ]
     },
     "execution_count": 61,
     "metadata": {},
     "output_type": "execute_result"
    },
    {
     "data": {
      "image/png": "[encoded data removed]",
      "text/plain": [
       "<Figure size 432x288 with 1 Axes>"
      ]
     },
     "metadata": {
      "needs_background": "light"
     },
     "output_type": "display_data"
    }
   ],
   "source": [
    "plt.imshow(X_val[0].reshape(28,28))"
   ]
  },
  {
   "cell_type": "code",
   "execution_count": 70,
   "id": "2d9ee57e",
   "metadata": {},
   "outputs": [
    {
     "name": "stdout",
     "output_type": "stream",
     "text": [
      "Model: \"sequential_3\"\n",
      "_________________________________________________________________\n",
      " Layer (type)                Output Shape              Param #   \n",
      "=================================================================\n",
      " flatten_2 (Flatten)         (None, 784)               0         \n",
      "                                                                 \n",
      " dense_4 (Dense)             (None, 64)                50240     \n",
      "                                                                 \n",
      " dense_5 (Dense)             (None, 10)                650       \n",
      "                                                                 \n",
      " dropout (Dropout)           (None, 10)                0         \n",
      "                                                                 \n",
      "=================================================================\n",
      "Total params: 50,890\n",
      "Trainable params: 50,890\n",
      "Non-trainable params: 0\n",
      "_________________________________________________________________\n"
     ]
    }
   ],
   "source": [
    "from tensorflow.keras.models import load_model\n",
    "best_model = load_model('best-mlp2-model.h5')\n",
    "best_model.summary()"
   ]
  },
  {
   "cell_type": "code",
   "execution_count": 72,
   "id": "d5449c0e",
   "metadata": {},
   "outputs": [],
   "source": [
    "y_pred_proba = best_model.predict(X_val[0:1])"
   ]
  },
  {
   "cell_type": "code",
   "execution_count": 73,
   "id": "ab318fec",
   "metadata": {},
   "outputs": [
    {
     "data": {
      "text/plain": [
       "array([[0.0000000e+00, 3.2420546e-25, 4.4261874e-09, 1.5054708e-18,\n",
       "        1.0000000e+00, 0.0000000e+00, 2.9068846e-29, 0.0000000e+00,\n",
       "        0.0000000e+00, 0.0000000e+00]], dtype=float32)"
      ]
     },
     "execution_count": 73,
     "metadata": {},
     "output_type": "execute_result"
    }
   ],
   "source": [
    "y_pred_proba"
   ]
  },
  {
   "cell_type": "code",
   "execution_count": 74,
   "id": "1b61641f",
   "metadata": {},
   "outputs": [
    {
     "data": {
      "text/plain": [
       "4"
      ]
     },
     "execution_count": 74,
     "metadata": {},
     "output_type": "execute_result"
    }
   ],
   "source": [
    "np.argmax(y_pred_proba)"
   ]
  },
  {
   "cell_type": "code",
   "execution_count": 75,
   "id": "0fa1e9a2",
   "metadata": {},
   "outputs": [
    {
     "data": {
      "text/plain": [
       "'Coat'"
      ]
     },
     "execution_count": 75,
     "metadata": {},
     "output_type": "execute_result"
    }
   ],
   "source": [
    "target_values[4]"
   ]
  },
  {
   "cell_type": "code",
   "execution_count": null,
   "id": "fee890e6",
   "metadata": {},
   "outputs": [],
   "source": [
    "#####################################"
   ]
  },
  {
   "cell_type": "code",
   "execution_count": 83,
   "id": "d0ef6fc5",
   "metadata": {},
   "outputs": [
    {
     "name": "stdout",
     "output_type": "stream",
     "text": [
      "Model: \"sequential_6\"\n",
      "_________________________________________________________________\n",
      " Layer (type)                Output Shape              Param #   \n",
      "=================================================================\n",
      " conv2d_1 (Conv2D)           (None, 26, 26, 16)        160       \n",
      "                                                                 \n",
      " max_pooling2d (MaxPooling2D  (None, 13, 13, 16)       0         \n",
      " )                                                               \n",
      "                                                                 \n",
      " flatten_4 (Flatten)         (None, 2704)              0         \n",
      "                                                                 \n",
      " dense_8 (Dense)             (None, 64)                173120    \n",
      "                                                                 \n",
      " dropout_2 (Dropout)         (None, 64)                0         \n",
      "                                                                 \n",
      " dense_9 (Dense)             (None, 10)                650       \n",
      "                                                                 \n",
      "=================================================================\n",
      "Total params: 173,930\n",
      "Trainable params: 173,930\n",
      "Non-trainable params: 0\n",
      "_________________________________________________________________\n"
     ]
    }
   ],
   "source": [
    "from tensorflow.keras.layers import Conv2D, MaxPooling2D\n",
    "cnn_model = Sequential()\n",
    "## 전처리(필터를 거쳐서 특성을 부여한 것을 모은 다음, 요약한다.)\n",
    "cnn_model.add(Conv2D(filters=16, \n",
    "                     kernel_size=(3,3),\n",
    "                     activation='relu',\n",
    "                     input_shape=[28,28,1]\n",
    "                     ))\n",
    "cnn_model.add(MaxPooling2D(pool_size=(2,2)))\n",
    "\n",
    "\n",
    "## 딥러닝을 시작\n",
    "# 1차원 데이타로 입력층\n",
    "#  hidden layer로 층을 쌓고,\n",
    "#  classification하는 출력층\n",
    "cnn_model.add(Flatten())\n",
    "cnn_model.add(Dense(units=64, activation='relu'))\n",
    "cnn_model.add(Dropout(rate=0.5))\n",
    "cnn_model.add(Dense(units=10, activation='softmax'))\n",
    "\n",
    "cnn_model.compile(optimizer='adam',\n",
    "                 loss='sparse_categorical_crossentropy',\n",
    "                 metrics = ['acc']\n",
    "                 )\n",
    "cnn_model.summary()"
   ]
  },
  {
   "cell_type": "code",
   "execution_count": 89,
   "id": "d4167fe2",
   "metadata": {},
   "outputs": [
    {
     "name": "stdout",
     "output_type": "stream",
     "text": [
      "Epoch 1/20\n",
      "750/750 - 5s - loss: 0.2196 - acc: 0.9170 - val_loss: 0.2686 - val_acc: 0.9087 - 5s/epoch - 7ms/step\n",
      "Epoch 2/20\n",
      "750/750 - 6s - loss: 0.2096 - acc: 0.9191 - val_loss: 0.2665 - val_acc: 0.9096 - 6s/epoch - 7ms/step\n",
      "Epoch 3/20\n",
      "750/750 - 5s - loss: 0.2090 - acc: 0.9207 - val_loss: 0.2668 - val_acc: 0.9091 - 5s/epoch - 7ms/step\n",
      "Epoch 4/20\n",
      "750/750 - 6s - loss: 0.2048 - acc: 0.9231 - val_loss: 0.2765 - val_acc: 0.9089 - 6s/epoch - 8ms/step\n",
      "Epoch 5/20\n",
      "750/750 - 5s - loss: 0.2015 - acc: 0.9241 - val_loss: 0.2780 - val_acc: 0.9086 - 5s/epoch - 6ms/step\n",
      "Epoch 6/20\n",
      "750/750 - 5s - loss: 0.1976 - acc: 0.9239 - val_loss: 0.2777 - val_acc: 0.9085 - 5s/epoch - 6ms/step\n",
      "Epoch 7/20\n",
      "750/750 - 6s - loss: 0.1961 - acc: 0.9258 - val_loss: 0.2727 - val_acc: 0.9120 - 6s/epoch - 8ms/step\n",
      "Epoch 8/20\n",
      "750/750 - 6s - loss: 0.1926 - acc: 0.9261 - val_loss: 0.2760 - val_acc: 0.9135 - 6s/epoch - 7ms/step\n",
      "Epoch 9/20\n",
      "750/750 - 5s - loss: 0.1880 - acc: 0.9272 - val_loss: 0.2840 - val_acc: 0.9103 - 5s/epoch - 7ms/step\n",
      "Epoch 10/20\n",
      "750/750 - 6s - loss: 0.1871 - acc: 0.9277 - val_loss: 0.2847 - val_acc: 0.9107 - 6s/epoch - 8ms/step\n",
      "Epoch 11/20\n",
      "750/750 - 5s - loss: 0.1824 - acc: 0.9290 - val_loss: 0.2775 - val_acc: 0.9123 - 5s/epoch - 7ms/step\n",
      "Epoch 12/20\n",
      "750/750 - 5s - loss: 0.1769 - acc: 0.9318 - val_loss: 0.2888 - val_acc: 0.9123 - 5s/epoch - 7ms/step\n"
     ]
    }
   ],
   "source": [
    "# call-back 2개 지정: 1) 조기 종료, 최적의 가중치 저장\n",
    "early_stopping2 = keras.callbacks.EarlyStopping(patience=10, \n",
    "                                                  restore_best_weights=True)\n",
    "checkpoint2 = keras.callbacks.ModelCheckpoint('best-cnn-model.h5')\n",
    "\n",
    "cnn_history = cnn_model.fit(X_tr, y_tr, \n",
    "                             batch_size=64, \n",
    "                             epochs=20,\n",
    "                             validation_data=(X_val, y_val),\n",
    "                             callbacks = [ checkpoint2, early_stopping2],\n",
    "                             verbose=2)"
   ]
  },
  {
   "cell_type": "code",
   "execution_count": 90,
   "id": "85419a73",
   "metadata": {},
   "outputs": [
    {
     "name": "stdout",
     "output_type": "stream",
     "text": [
      "375/375 [==============================] - 1s 3ms/step - loss: 0.2665 - acc: 0.9096\n"
     ]
    },
    {
     "data": {
      "text/plain": [
       "[0.26647740602493286, 0.909583330154419]"
      ]
     },
     "execution_count": 90,
     "metadata": {},
     "output_type": "execute_result"
    }
   ],
   "source": [
    "cnn_model.evaluate(X_val, y_val)"
   ]
  },
  {
   "cell_type": "code",
   "execution_count": 91,
   "id": "3bd7318f",
   "metadata": {
    "scrolled": true
   },
   "outputs": [
    {
     "name": "stdout",
     "output_type": "stream",
     "text": [
      "Model: \"sequential_6\"\n",
      "_________________________________________________________________\n",
      " Layer (type)                Output Shape              Param #   \n",
      "=================================================================\n",
      " conv2d_1 (Conv2D)           (None, 26, 26, 16)        160       \n",
      "                                                                 \n",
      " max_pooling2d (MaxPooling2D  (None, 13, 13, 16)       0         \n",
      " )                                                               \n",
      "                                                                 \n",
      " flatten_4 (Flatten)         (None, 2704)              0         \n",
      "                                                                 \n",
      " dense_8 (Dense)             (None, 64)                173120    \n",
      "                                                                 \n",
      " dropout_2 (Dropout)         (None, 64)                0         \n",
      "                                                                 \n",
      " dense_9 (Dense)             (None, 10)                650       \n",
      "                                                                 \n",
      "=================================================================\n",
      "Total params: 173,930\n",
      "Trainable params: 173,930\n",
      "Non-trainable params: 0\n",
      "_________________________________________________________________\n"
     ]
    }
   ],
   "source": [
    "best_model = load_model('best-cnn-model.h5')\n",
    "best_model.summary()"
   ]
  },
  {
   "cell_type": "code",
   "execution_count": 92,
   "id": "ef90a5e8",
   "metadata": {},
   "outputs": [
    {
     "data": {
      "image/png": "[encoded data removed]",
      "text/plain": [
       "<Figure size 432x288 with 1 Axes>"
      ]
     },
     "metadata": {
      "needs_background": "light"
     },
     "output_type": "display_data"
    }
   ],
   "source": [
    "plt.plot(cnn_history.history['loss'])\n",
    "plt.plot(cnn_history.history['val_loss'])\n",
    "plt.xlabel('epoch')\n",
    "plt.ylabel('loss')\n",
    "plt.legend(['train', 'val'])\n",
    "plt.show()"
   ]
  },
  {
   "cell_type": "code",
   "execution_count": 93,
   "id": "e7683814",
   "metadata": {},
   "outputs": [
    {
     "data": {
      "image/png": "[encoded data removed]",
      "text/plain": [
       "<Figure size 432x288 with 1 Axes>"
      ]
     },
     "metadata": {
      "needs_background": "light"
     },
     "output_type": "display_data"
    }
   ],
   "source": [
    "plt.plot(cnn_history.history['acc'])\n",
    "plt.plot(cnn_history.history['val_acc'])\n",
    "plt.xlabel('epoch')\n",
    "plt.ylabel('acc')\n",
    "plt.legend(['train', 'val'])\n",
    "plt.show()"
   ]
  },
  {
   "cell_type": "code",
   "execution_count": 94,
   "id": "115c3602",
   "metadata": {},
   "outputs": [],
   "source": [
    "y_pred_proba = best_model.predict(X_val[0:1])"
   ]
  },
  {
   "cell_type": "code",
   "execution_count": 95,
   "id": "631725e4",
   "metadata": {},
   "outputs": [
    {
     "data": {
      "text/plain": [
       "4"
      ]
     },
     "execution_count": 95,
     "metadata": {},
     "output_type": "execute_result"
    }
   ],
   "source": [
    "np.argmax(y_pred_proba)"
   ]
  },
  {
   "cell_type": "code",
   "execution_count": 96,
   "id": "f21fddc0",
   "metadata": {},
   "outputs": [
    {
     "data": {
      "text/plain": [
       "'Coat'"
      ]
     },
     "execution_count": 96,
     "metadata": {},
     "output_type": "execute_result"
    }
   ],
   "source": [
    "target_values[4]"
   ]
  }
 ],
 "metadata": {
  "kernelspec": {
   "display_name": "Python 3",
   "language": "python",
   "name": "python3"
  },
  "language_info": {
   "codemirror_mode": {
    "name": "ipython",
    "version": 3
   },
   "file_extension": ".py",
   "mimetype": "text/x-python",
   "name": "python",
   "nbconvert_exporter": "python",
   "pygments_lexer": "ipython3",
   "version": "3.8.8"
  }
 },
 "nbformat": 4,
 "nbformat_minor": 5
}
